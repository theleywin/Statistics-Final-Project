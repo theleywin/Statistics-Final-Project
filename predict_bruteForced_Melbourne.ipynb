{
 "cells": [
  {
   "cell_type": "markdown",
   "metadata": {},
   "source": [
    "Buscamos un poco de información de como hacer este proceso y acerca de la regresión lineal, no tanto para nosotros ya que somos profesionales en este tema, sino para nuestro cliente, para que al menos tenga una vaga idea de este método"
   ]
  },
  {
   "cell_type": "markdown",
   "metadata": {},
   "source": [
    "La **regresión lineal** es un método estadístico que modela la relación entre una variable dependiente (o respuesta) y una o más variables independientes (o predictoras) mediante una ecuación lineal. En su forma más básica (regresión lineal simple), la ecuación es:  \n",
    "\n",
    "\n",
    "$y = \\beta_0 + \\beta_1 x + \\epsilon$\n",
    "\n",
    "Donde:  \n",
    "- ($y$): variable dependiente.  \n",
    "- ($x$): variable independiente.  \n",
    "- ($\\beta_0$): término constante (intercepto).  \n",
    "- ($\\beta_1$): coeficiente que mide la relación entre ($x$) e ($y$).  \n",
    "- ($\\epsilon$): error o ruido.  \n",
    "\n",
    "En **regresión lineal múltiple**, se incluyen múltiples variables independientes, y la ecuación se extiende a:\n",
    "\n",
    "\n",
    "$y = \\beta_0 + \\beta_1 x_1 + \\beta_2 x_2 + \\dots + \\beta_n x_n + \\epsilon$\n",
    "\n",
    "\n",
    "Este método se usa ampliamente en diversos campos como economía, biología, ingeniería y análisis de datos, debido a su simplicidad y facilidad de interpretación.\n",
    "\n",
    "\n",
    "## Posible uso en la predicción de precios de casas\n",
    "\n",
    "En el contexto del mercado inmobiliario, la regresión lineal puede ser una herramienta efectiva para predecir el precio de una casa (\\(y\\)) basado en características como:  \n",
    "- Tamaño en metros cuadrados ($x_1$).  \n",
    "- Ubicación ($x_2$).  \n",
    "- Número de habitaciones ($x_3$).  \n",
    "- Edad de la propiedad ($x_4$).  \n",
    "- Entre otros factores.\n",
    "\n",
    "Cada coeficiente ($\\beta_i$) representa el impacto estimado de esa característica específica en el precio.\n",
    "\n",
    "### Ventajas:\n",
    "\n",
    "1. **Simplicidad**: Fácil de implementar e interpretar.   \n",
    "2. **Transparencia**: Los coeficientes muestran claramente cómo afecta cada variable al precio.  \n",
    "4. **Flexibilidad básica**: Funciona bien cuando la relación entre las variables independientes y el precio es lineal.\n",
    "\n",
    "### Limitaciones:\n",
    "1. **Suposición de linealidad**: La regresión lineal asume que la relación entre las variables es lineal, lo que puede no reflejar adecuadamente las dinámicas complejas del mercado inmobiliario.  \n",
    "2. **Sensibilidad a valores atípicos**: Los datos anómalos pueden sesgar los resultados.  \n",
    "3. **Interacciones y no linealidades**: No capta relaciones más complejas entre las variables, como efectos interactivos o no lineales.  \n",
    "4. **Multicolinealidad**: Si las variables independientes están correlacionadas entre sí, los coeficientes pueden ser inestables.\n"
   ]
  },
  {
   "cell_type": "code",
   "execution_count": 8,
   "metadata": {},
   "outputs": [],
   "source": [
    "import numpy as np \n",
    "import pandas as pd \n",
    "import matplotlib.pyplot as plt\n",
    "import seaborn as sns\n",
    "\n",
    "from sklearn.linear_model import LinearRegression\n",
    "from sklearn import metrics\n",
    "from sklearn.model_selection import train_test_split\n",
    "import warnings\n",
    "\n",
    "%matplotlib inline\n",
    "warnings.filterwarnings('ignore')"
   ]
  },
  {
   "cell_type": "markdown",
   "metadata": {},
   "source": [
    "Bueno una vez explicada un poco la teoría nos pusimos mano a la obra en la práctica"
   ]
  },
  {
   "cell_type": "code",
   "execution_count": 9,
   "metadata": {},
   "outputs": [],
   "source": [
    "df=pd.read_csv(\"housing_Melbourne_big.csv\")"
   ]
  },
  {
   "cell_type": "markdown",
   "metadata": {},
   "source": [
    "Quitemos todos los valores nulos que no nos interesan"
   ]
  },
  {
   "cell_type": "code",
   "execution_count": 10,
   "metadata": {},
   "outputs": [],
   "source": [
    "df.dropna(how='any', subset=['Price'],inplace = True) "
   ]
  },
  {
   "cell_type": "markdown",
   "metadata": {},
   "source": [
    "Datos como 'address''date''postcode' no nos brindan ninguna información referente al precio de las casas, por lo que lo quitamos, las demás columnas las volvemos numéricas, ya que si pueden brindarnos cierta información respecto al precio de una casa"
   ]
  },
  {
   "cell_type": "code",
   "execution_count": 11,
   "metadata": {},
   "outputs": [],
   "source": [
    "df.drop([\"Address\",\"Date\",\"Postcode\"], axis=1,inplace=True)\n",
    "df.dropna(inplace=True)\n",
    "\n",
    "from sklearn import preprocessing \n",
    "  \n",
    "label_encoder = preprocessing.LabelEncoder() \n",
    "\n",
    "df['Suburb']= label_encoder.fit_transform(df['Suburb'])\n",
    "df['Type']= label_encoder.fit_transform(df['Type'])\n",
    "df['Method']= label_encoder.fit_transform(df['Method'])\n",
    "df['SellerG']= label_encoder.fit_transform(df['SellerG'])\n",
    "df['Regionname']= label_encoder.fit_transform(df['Regionname'])\n",
    "df['CouncilArea']= label_encoder.fit_transform(df['CouncilArea'])\n"
   ]
  },
  {
   "cell_type": "markdown",
   "metadata": {},
   "source": [
    "Apliquemos entonces nustro modelo de regresión lineal, por convención usamos el 20% de los datos para testear"
   ]
  },
  {
   "cell_type": "code",
   "execution_count": 12,
   "metadata": {},
   "outputs": [],
   "source": [
    "X1 = df.drop(['Price'], axis=1)\n",
    "\n",
    "y1 = df['Price']\n",
    "\n",
    "X1_train, X1_test, y1_train, y1_test = train_test_split(X1,y1, test_size = .20, random_state= 0)"
   ]
  },
  {
   "cell_type": "code",
   "execution_count": 13,
   "metadata": {},
   "outputs": [],
   "source": [
    "lm_regressor = LinearRegression().fit(X1_train,y1_train)\n"
   ]
  },
  {
   "cell_type": "code",
   "execution_count": 14,
   "metadata": {},
   "outputs": [
    {
     "data": {
      "text/plain": [
       "0.5641144413425099"
      ]
     },
     "execution_count": 14,
     "metadata": {},
     "output_type": "execute_result"
    }
   ],
   "source": [
    "lm_regressor.score(X1_test, y1_test)"
   ]
  },
  {
   "cell_type": "markdown",
   "metadata": {},
   "source": [
    "56.41% de efectividad... |:\n",
    "Ok es bastante lamentable, como no podíamos entregarle algo tan mediocre a nuestro cliente, decidimos mejorar este resultado haciendo una limpieza de nuestros datos lo mejor posible, al menos queríamos superar el 60%, así que el trabajo seguía"
   ]
  }
 ],
 "metadata": {
  "kernelspec": {
   "display_name": ".venv",
   "language": "python",
   "name": "python3"
  },
  "language_info": {
   "codemirror_mode": {
    "name": "ipython",
    "version": 3
   },
   "file_extension": ".py",
   "mimetype": "text/x-python",
   "name": "python",
   "nbconvert_exporter": "python",
   "pygments_lexer": "ipython3",
   "version": "3.12.0"
  }
 },
 "nbformat": 4,
 "nbformat_minor": 2
}

{
 "cells": [
  {
   "cell_type": "markdown",
   "metadata": {},
   "source": [
    "Empezamos a trabajar con el dataset proporcionado sin demora ninguna, recordando que Larry nos había mostrado particular interés en el distrito de Abbotsford, ya que vivía la mejor amiga de su mmujer, pero bueno empezamos primero viendo nuestro dataset"
   ]
  },
  {
   "cell_type": "code",
   "execution_count": 54,
   "metadata": {},
   "outputs": [],
   "source": [
    "import numpy as np \n",
    "from numpy import sqrt, abs, round\n",
    "import pandas as pd\n",
    "pd.set_option('display.max_rows', 800)\n",
    "pd.set_option('display.max_columns', 500)\n",
    "import math\n",
    "from scipy.stats import norm, uniform, zscore\n",
    "import seaborn as sns\n",
    "import matplotlib.pyplot as plt"
   ]
  },
  {
   "cell_type": "code",
   "execution_count": null,
   "metadata": {},
   "outputs": [],
   "source": [
    "df_big = pd.read_csv(\"housing_Melbourne_big.csv\")\n",
    "df=pd.read_csv(\"housing_Melbourne.csv\")\n",
    "df_big"
   ]
  },
  {
   "cell_type": "code",
   "execution_count": null,
   "metadata": {},
   "outputs": [],
   "source": [
    "df_big.info()"
   ]
  },
  {
   "cell_type": "code",
   "execution_count": null,
   "metadata": {},
   "outputs": [],
   "source": [
    "df_big.describe()"
   ]
  },
  {
   "cell_type": "code",
   "execution_count": null,
   "metadata": {},
   "outputs": [],
   "source": [
    "num_col = df_big.select_dtypes(include=np.number).columns\n",
    "print(\"Numerical columns: \\n\",num_col)\n",
    "\n",
    "cat_col = df_big.select_dtypes(exclude=np.number).columns\n",
    "print(\"Categorical columns: \\n\",cat_col)"
   ]
  },
  {
   "cell_type": "code",
   "execution_count": null,
   "metadata": {},
   "outputs": [],
   "source": [
    "df_big.drop([\"Address\",\"Date\",\"Postcode\",\"Date\"], axis=1,inplace=True)\n",
    "df_big.dropna(inplace=True)\n",
    "\n",
    "# Import label encoder \n",
    "from sklearn import preprocessing \n",
    "  \n",
    "# label_encoder object knows how to understand word labels. \n",
    "label_encoder = preprocessing.LabelEncoder() \n",
    "  \n",
    "# Encode labels in column . \n",
    "\n",
    "df_big['Suburb']= label_encoder.fit_transform(df_big['Suburb'])\n",
    "df_big['Type']= label_encoder.fit_transform(df_big['Type'])\n",
    "df_big['Method']= label_encoder.fit_transform(df_big['Method'])\n",
    "df_big['SellerG']= label_encoder.fit_transform(df_big['SellerG'])\n",
    "df_big['Regionname']= label_encoder.fit_transform(df_big['Regionname'])\n",
    "df_big['CouncilArea']= label_encoder.fit_transform(df_big['CouncilArea'])\n",
    "  \n",
    "df_big.head()\n"
   ]
  },
  {
   "cell_type": "code",
   "execution_count": null,
   "metadata": {},
   "outputs": [],
   "source": [
    "df_big.hist(figsize=(18,14))"
   ]
  },
  {
   "cell_type": "code",
   "execution_count": null,
   "metadata": {},
   "outputs": [],
   "source": [
    "plt.figure(figsize=(8,8))\n",
    "plt.title('Price Distribution Plot')\n",
    "sns.histplot(df_big['Price'])"
   ]
  },
  {
   "cell_type": "code",
   "execution_count": null,
   "metadata": {},
   "outputs": [],
   "source": [
    "plt.figure(figsize=(15,10))\n",
    "sns.heatmap(df_big.corr(),cmap='RdYlGn', annot=True)"
   ]
  },
  {
   "cell_type": "code",
   "execution_count": null,
   "metadata": {},
   "outputs": [],
   "source": [
    "plt.figure(figsize=(15,10))\n",
    "sns.scatterplot(x=\"Lattitude\", y=\"Longtitude\", data=df_big, hue=\"Price\", palette=\"coolwarm\")"
   ]
  },
  {
   "cell_type": "markdown",
   "metadata": {},
   "source": []
  },
  {
   "cell_type": "code",
   "execution_count": null,
   "metadata": {},
   "outputs": [],
   "source": [
    "df.head(10)"
   ]
  },
  {
   "cell_type": "markdown",
   "metadata": {},
   "source": [
    "### En este estudio, intentaré realizar una prueba básica de hipótesis para el distrito de Abbotsford en Melbourne.\n",
    "\n",
    "- **Hipótesis nula (H₀):** Los precios de las casas en Abbotsford-Melbourne son más caros que en Melbourne en general.  \n",
    "  \n",
    "- **Hipótesis alternativa (H₁):** Los precios de las casas en Abbotsford-Melbourne no son más caros que en Melbourne en general.  "
   ]
  },
  {
   "cell_type": "code",
   "execution_count": null,
   "metadata": {},
   "outputs": [],
   "source": [
    "df_without_null_prices = df[~df[\"Price\"].isnull()]\n",
    "prices = df_without_null_prices[\"Price\"]\n",
    "prices"
   ]
  },
  {
   "cell_type": "code",
   "execution_count": null,
   "metadata": {},
   "outputs": [],
   "source": [
    "in_abbotsford = df_without_null_prices.loc[df[\"Suburb\"] == \"Abbotsford\"]\n",
    "prices_in_abbotsford = in_abbotsford[\"Price\"]\n",
    "prices_in_abbotsford"
   ]
  },
  {
   "cell_type": "markdown",
   "metadata": {},
   "source": []
  },
  {
   "cell_type": "code",
   "execution_count": null,
   "metadata": {},
   "outputs": [],
   "source": [
    "prices_in_abbotsford_mean = prices_in_abbotsford.mean()\n",
    "prices_in_abbotsford_mean"
   ]
  },
  {
   "cell_type": "code",
   "execution_count": null,
   "metadata": {},
   "outputs": [],
   "source": [
    "prices_mean = prices.mean()\n",
    "prices_mean"
   ]
  },
  {
   "cell_type": "code",
   "execution_count": null,
   "metadata": {},
   "outputs": [],
   "source": [
    "prices_in_abbotsford_std = prices_in_abbotsford.std()\n",
    "prices_in_abbotsford_std"
   ]
  },
  {
   "cell_type": "code",
   "execution_count": null,
   "metadata": {},
   "outputs": [],
   "source": [
    "prices_std = prices.std()\n",
    "prices_std"
   ]
  },
  {
   "cell_type": "code",
   "execution_count": null,
   "metadata": {},
   "outputs": [],
   "source": [
    "prices_in_abbotsford_len = len(prices_in_abbotsford)\n",
    "prices_in_abbotsford_len\n",
    "prices_len = len(prices)\n",
    "prices_len"
   ]
  },
  {
   "cell_type": "code",
   "execution_count": 50,
   "metadata": {},
   "outputs": [],
   "source": [
    "min_price = prices.min()\n",
    "max_price = prices.max()\n",
    "min_abbotsford_price = prices_in_abbotsford.min()\n",
    "max_abbotsford_price = prices_in_abbotsford.max()"
   ]
  },
  {
   "cell_type": "code",
   "execution_count": null,
   "metadata": {},
   "outputs": [],
   "source": [
    "standard_error = prices_std / math.sqrt(prices_in_abbotsford_len)\n",
    "standard_error"
   ]
  },
  {
   "cell_type": "markdown",
   "metadata": {},
   "source": [
    "### Como se declaró en la hipótesis, se sabe que Abbotsford es un distrito de Melbourne. Primero se calcularon la media y la desviación estándar de la población (Melbourne) y de la muestra (Abbotsford):\n",
    "\n",
    "- **Media de los precios de las casas en Melbourne:** $997,898$  \n",
    "  \n",
    "- **Desviación estándar de los precios de las casas en Melbourne:** $593,498$  \n",
    "  \n",
    "- **Media de los precios de las casas en Abbotsford:** $1,040,200$  \n",
    "  \n",
    "- **Desviación estándar de los precios de las casas en Abbotsford:** $374,652$  \n",
    "\n",
    "### Después de esto, se determinó cómo la media de Abbotsford se desvía de la población total (Melbourne) en términos de unidades de error estándar. El resultado del cálculo fue:  \n",
    "- **Unidades de error estándar (se):** $0.84$  \n",
    "  \n",
    "- **Valor p:** $0.39$  "
   ]
  },
  {
   "cell_type": "code",
   "execution_count": 58,
   "metadata": {},
   "outputs": [],
   "source": [
    "mean_diff = prices_in_abbotsford_mean - prices_mean"
   ]
  },
  {
   "cell_type": "code",
   "execution_count": null,
   "metadata": {},
   "outputs": [],
   "source": [
    "standard_errors_away = mean_diff / standard_error\n",
    "standard_errors_away"
   ]
  },
  {
   "cell_type": "code",
   "execution_count": null,
   "metadata": {},
   "outputs": [],
   "source": [
    "p_value = 2 * (1-norm.cdf(abs(standard_errors_away)))\n",
    "p_value"
   ]
  },
  {
   "cell_type": "code",
   "execution_count": 61,
   "metadata": {},
   "outputs": [],
   "source": [
    "mu = prices_mean\n",
    "sigma = prices_std / sqrt(prices_in_abbotsford_len)"
   ]
  },
  {
   "cell_type": "code",
   "execution_count": 62,
   "metadata": {},
   "outputs": [],
   "source": [
    "mu = prices_mean\n",
    "sigma = prices_std / sqrt(prices_in_abbotsford_len)"
   ]
  },
  {
   "cell_type": "code",
   "execution_count": null,
   "metadata": {},
   "outputs": [],
   "source": [
    "\n",
    "x = np.linspace(mu - 3*sigma, mu + 3*sigma, len(prices))\n",
    "plt.plot(x, norm.pdf(x, mu, sigma))\n",
    "plt.axvline(x=prices_in_abbotsford_mean, color=\"r\")\n",
    "plt.show()"
   ]
  },
  {
   "cell_type": "code",
   "execution_count": null,
   "metadata": {},
   "outputs": [],
   "source": [
    "sigma"
   ]
  },
  {
   "cell_type": "code",
   "execution_count": null,
   "metadata": {},
   "outputs": [],
   "source": [
    "value = np.random.normal(loc=prices_mean,scale=sigma,size=len(prices))\n",
    "sns.displot(value, kde=True)\n",
    "plt.axvline(prices_in_abbotsford_mean, color='red') # Plot a vertical line at corresponding x"
   ]
  },
  {
   "cell_type": "markdown",
   "metadata": {},
   "source": [
    "Entonces, la media de los precios de las casas en Abbotsford fue $0,84$ unidades de error estándar más alta que la media de la población. Preferí alinearme con la convención general de un nivel de error estándar de $1,645$ y un nivel de valor `p` de $0,05$. Dado que nuestros \n",
    "\n",
    "valores de error estándar $(0,84 < 1,645)$\n",
    "\n",
    " y el valor \n",
    " \n",
    " $p (0,39 > 0,05)$ \n",
    " \n",
    " no cumplen los criterios, la hipótesis de que los precios de las casas en Abbotsford-Melbourne son más altos que en Melbourne en general es rechazada. Podemos asumir que las casas en Abbotsford no son significativamente más caras que las de la población total, es decir, Melbourne. \n",
    "\n",
    "Dado que la unidad de error estándar se encuentra en $49.805$ dólares, y la media del precio de las casas en Abbotsford está a $0,84$ unidades de error estándar de distancia, el cálculo es:  \n",
    "\n",
    "$49.805$ dólares $*$ $0,84 = 41.836$ dólares. Esto significa que la media de los precios de las casas en Abbotsford está $41.836$ dólares por encima de la media de los precios de las casas en Melbourne.  \n",
    "\n",
    "Podemos observar los gráficos de resultados más arriba. Estos no representan una `distribución normal estandarizada`, por lo que es necesario explicarlo. En los gráficos trazados, 1.0 significa 1,0 billones de dólares, y 1.1 también significa 1,1 billones de dólares. Desde la línea roja, que representa la media de los precios de las casas en Abbotsford, podemos observar claramente en la gráfica que está desviada $41.836$ dólares."
   ]
  }
 ],
 "metadata": {
  "kernelspec": {
   "display_name": ".venv",
   "language": "python",
   "name": "python3"
  },
  "language_info": {
   "codemirror_mode": {
    "name": "ipython",
    "version": 3
   },
   "file_extension": ".py",
   "mimetype": "text/x-python",
   "name": "python",
   "nbconvert_exporter": "python",
   "pygments_lexer": "ipython3",
   "version": "3.12.0"
  }
 },
 "nbformat": 4,
 "nbformat_minor": 2
}

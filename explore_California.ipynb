{
 "cells": [
  {
   "cell_type": "markdown",
   "metadata": {},
   "source": [
    "Entonces, estábamos yo y mi amigo Diego un día muy tranquilos en la escalera de la facultad cuando se nos acercó un señor canoso interesado en nuestros conocimientos estadísticos, se llamaba Larry Capija, nos explicó sobre como tená mucho dinero y que estaba valorando la idea de comprarse una casa...sin necesidad de recurrir a nuestros conocimientos estadísticos le explicamos sobre la mala idea que era asentarse aquí en Cuba en estos tiempos, pero nos explicó que estaba valorando entre California(Estados Unidos) y Melbourne(Australia), que la razon por la que venía a Cuba era simplemente porque le salía más barato contratarnos a nosotros que a un yanqui consumista e imperialista (tremendo izquierdo el Larry), entonces nos hizo entrega de una base de datos sobre Casas en California y otro sobre Melbourne, y nos dio un plazo de una semana para darle una primera entrega de nuestras investigaciones sobre que lugar era mejor para vivir.(junto con el dataset vinieron 100 usd así que nos pusimos las pilas)"
   ]
  },
  {
   "cell_type": "code",
   "execution_count": 1,
   "metadata": {},
   "outputs": [],
   "source": [
    "import pandas as pd\n",
    "import numpy as np\n",
    "import matplotlib.pyplot as plt\n",
    "import seaborn as sns"
   ]
  },
  {
   "cell_type": "markdown",
   "metadata": {},
   "source": [
    "Empezamos viendo de que iba el dataset, y lo tratamos un poco ya que este venía con algunas ambigüedades."
   ]
  },
  {
   "cell_type": "code",
   "execution_count": 2,
   "metadata": {},
   "outputs": [],
   "source": [
    "data=pd.read_csv(\"housing.csv\")\n"
   ]
  },
  {
   "cell_type": "code",
   "execution_count": null,
   "metadata": {},
   "outputs": [],
   "source": [
    "data"
   ]
  },
  {
   "cell_type": "markdown",
   "metadata": {},
   "source": [
    "tratamos la tabla para que la información sea concisa"
   ]
  },
  {
   "cell_type": "code",
   "execution_count": null,
   "metadata": {},
   "outputs": [],
   "source": [
    "data.dropna(inplace=True)\n",
    "\n",
    "data.info()"
   ]
  },
  {
   "cell_type": "markdown",
   "metadata": {},
   "source": [
    "Visualización en forma de histograma"
   ]
  },
  {
   "cell_type": "code",
   "execution_count": null,
   "metadata": {},
   "outputs": [],
   "source": [
    "data.hist(figsize=(15,10))"
   ]
  },
  {
   "cell_type": "markdown",
   "metadata": {},
   "source": [
    "definimos una función para que quedasen mejor representadas las distribuciones de cada valor"
   ]
  },
  {
   "cell_type": "code",
   "execution_count": 6,
   "metadata": {},
   "outputs": [],
   "source": [
    "def columns_histplot(data):\n",
    "    l = len(data.columns)\n",
    "    plt.figure(figsize=(15, 10))\n",
    "    for i in range(l):\n",
    "        try:\n",
    "            plt.subplot(3, 3, i+1 )\n",
    "            sns.histplot(data[data.columns[i]], bins=10, kde=True)\n",
    "        except ValueError:\n",
    "            break\n",
    "       \n",
    "       \n",
    "      \n",
    "\n",
    "    plt.tight_layout()\n",
    "    plt.show()"
   ]
  },
  {
   "cell_type": "code",
   "execution_count": null,
   "metadata": {},
   "outputs": [],
   "source": [
    "\n",
    "columns_histplot(data)"
   ]
  },
  {
   "cell_type": "markdown",
   "metadata": {},
   "source": [
    "Aqui volvemos a tratar nuestra tabla, ya que la columna 'ocean_proximity' contenía valores tipo string lo cual no nos resulta útil, asi que decidimos convertir los posibles valores de esa columna en nuevas columnas y llenar con ceros y unos a modo de true or false de forma que nos permitiese sacar mas información de la tabla, la razón principal es porque entendimos que no tenía sentido no hacer uso de esos datos, ya que necesitabamos una correlación lo más específica posible en cuanto a localidad-precio"
   ]
  },
  {
   "cell_type": "code",
   "execution_count": 8,
   "metadata": {},
   "outputs": [],
   "source": [
    "data =data.join(pd.get_dummies(data.ocean_proximity, dtype='int')).drop(['ocean_proximity'], axis=1)"
   ]
  },
  {
   "cell_type": "code",
   "execution_count": null,
   "metadata": {},
   "outputs": [],
   "source": [
    "data"
   ]
  },
  {
   "cell_type": "markdown",
   "metadata": {},
   "source": [
    "aquí vemos un mapa de correlación entre los valores de la tabla, notemos como influyen las localizaciones de los bloques respecto al mar en cuanto al precio de las casas en dicho bloque"
   ]
  },
  {
   "cell_type": "code",
   "execution_count": null,
   "metadata": {},
   "outputs": [],
   "source": [
    "plt.figure(figsize=(15,10))\n",
    "sns.heatmap(data.corr(), annot=True)"
   ]
  },
  {
   "cell_type": "markdown",
   "metadata": {},
   "source": [
    "aquí ploteamos la información usando latitud y longitud como coordenadas para tener un mapa de California, y ver en donde se encuentran las zonas más caras"
   ]
  },
  {
   "cell_type": "code",
   "execution_count": null,
   "metadata": {},
   "outputs": [],
   "source": [
    "plt.figure(figsize=(15,10))\n",
    "sns.scatterplot(x=\"latitude\", y=\"longitude\", data=data, hue=\"median_house_value\", palette=\"coolwarm\")"
   ]
  },
  {
   "cell_type": "markdown",
   "metadata": {},
   "source": [
    "en cierta medida no nos gustó mucho los datos encontrados en California, los precios eran un poco alarmantes la verdad, sobre todo en las zonas cercanas al océano, asi que decidimos probar mejor con Melbourne,(brincar al otro notebook)"
   ]
  }
 ],
 "metadata": {
  "kernelspec": {
   "display_name": ".venv",
   "language": "python",
   "name": "python3"
  },
  "language_info": {
   "codemirror_mode": {
    "name": "ipython",
    "version": 3
   },
   "file_extension": ".py",
   "mimetype": "text/x-python",
   "name": "python",
   "nbconvert_exporter": "python",
   "pygments_lexer": "ipython3",
   "version": "3.12.0"
  }
 },
 "nbformat": 4,
 "nbformat_minor": 2
}
